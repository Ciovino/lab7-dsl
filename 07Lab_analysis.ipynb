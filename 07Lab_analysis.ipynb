{
 "cells": [
  {
   "cell_type": "markdown",
   "metadata": {},
   "source": [
    "# Free Spoken Digit classification"
   ]
  },
  {
   "cell_type": "markdown",
   "metadata": {},
   "source": [
    "In this exercise you will build a complete data analytics pipeline to pre-process your audio signals and build a classification model able to distinguish between the classes available in the dataset."
   ]
  },
  {
   "cell_type": "markdown",
   "metadata": {},
   "source": [
    "More specifically, you will load, analyze and prepare the Free Spoken Digit dataset to train and validate a classification model."
   ]
  },
  {
   "cell_type": "markdown",
   "metadata": {},
   "source": [
    "# Analyzing the dataset"
   ]
  },
  {
   "cell_type": "markdown",
   "metadata": {},
   "source": [
    "## 1. Load the dataset from the root folder "
   ]
  },
  {
   "cell_type": "markdown",
   "metadata": {},
   "source": [
    "### Dataset organization\n",
    "The dataset archive is organized as follows:\n",
    "- dev: the folder that contains the labeled recordings;\n",
    "- eval: the folder that contains the unlabeled recordings. Use this data to produce the submission file\n",
    "containing the predicted labels."
   ]
  },
  {
   "cell_type": "code",
   "execution_count": 23,
   "metadata": {},
   "outputs": [
    {
     "name": "stdout",
     "output_type": "stream",
     "text": [
      "Development .wav file names: ['0_4.wav', '1000_0.wav', '1001_1.wav', '1002_6.wav', '1003_2.wav']\n",
      "Evaluation .wav file names: ['0.wav', '1.wav', '10.wav', '100.wav', '101.wav']\n"
     ]
    }
   ],
   "source": [
    "from os import listdir\n",
    "from os.path import join\n",
    "\n",
    "root_folder : str   = 'dataset'\n",
    "dev         : str   = 'development'\n",
    "eval        : str   = 'evaluation'\n",
    "\n",
    "dev_files   : list[str] = listdir(join(root_folder, dev))\n",
    "eval_files  : list[str] = listdir(join(root_folder, eval))\n",
    "\n",
    "print(f'Development .wav file names: {dev_files[:5]}')\n",
    "print(f'Evaluation .wav file names: {eval_files[:5]}')"
   ]
  },
  {
   "cell_type": "markdown",
   "metadata": {},
   "source": [
    "### Converting the Data set into an usefull format"
   ]
  },
  {
   "cell_type": "markdown",
   "metadata": {},
   "source": [
    "Create a data frame for storing all the information of the recordings"
   ]
  },
  {
   "cell_type": "code",
   "execution_count": 89,
   "metadata": {},
   "outputs": [],
   "source": [
    "from scipy.io.wavfile import read as read_wav # read .wav files\n",
    "\n",
    "def convert_files_for_df(file_list : list[str], options : str = 'dev') -> list[dict]:\n",
    "    \"\"\"Convert element of the given list to the proper format\n",
    "\n",
    "    Args:\n",
    "        file_list (list[str]): Input list to be converted\n",
    "        options (str, optional): Information on how to the input strings are formatted:\n",
    "            - 'dev' (default) => format is '<idx>_<label>.wav'\n",
    "            - 'eval' => format is '<idx>.wav'\n",
    "\n",
    "    Returns:\n",
    "        converted_data (list[dict]): each converted element is in a separate dict\n",
    "    \"\"\"\n",
    "    splitted = [element.replace('.', '_').split('_')[:-1] for element in file_list]\n",
    "    \n",
    "    if options == 'eval':\n",
    "        return [{'idx' : int(input_str[0]), 'full_path': join(root_folder, eval, file_list[i]), 'wav_data' : read_wav(join(root_folder, eval, file_list[i]))} for i, input_str in enumerate(splitted)]\n",
    "    else: # default\n",
    "        return [{'idx' : int(col[0]), 'label' : int(col[1]), 'full_path' : join(root_folder, dev, file_list[i]), 'wav_data' : read_wav(join(root_folder, dev, file_list[i]))} for i, col in enumerate(splitted)]"
   ]
  },
  {
   "cell_type": "code",
   "execution_count": 104,
   "metadata": {},
   "outputs": [
    {
     "name": "stdout",
     "output_type": "stream",
     "text": [
      "     label                    full_path  \\\n",
      "idx                                       \n",
      "0        4  dataset\\development\\0_4.wav   \n",
      "1        7  dataset\\development\\1_7.wav   \n",
      "2        5  dataset\\development\\2_5.wav   \n",
      "3        2  dataset\\development\\3_2.wav   \n",
      "4        3  dataset\\development\\4_3.wav   \n",
      "\n",
      "                                              wav_data  \n",
      "idx                                                     \n",
      "0    (8000, [14, 21, 0, 18, -11, 22, -15, -53, 9, -...  \n",
      "1    (8000, [-2, 12, 1, -18, 7, -7, 1, -1, 0, 0, -6...  \n",
      "2    (8000, [-9, -7, -5, -8, -13, -1, 20, -12, 6, 1...  \n",
      "3    (8000, [-256, -512, 0, -256, 256, -256, 0, -51...  \n",
      "4    (8000, [-20, 10, 26, -13, 22, -16, 11, 7, -21,...  \n",
      "\n",
      "Dataset information:\n",
      "<class 'pandas.core.frame.DataFrame'>\n",
      "Index: 1500 entries, 0 to 1499\n",
      "Data columns (total 3 columns):\n",
      " #   Column     Non-Null Count  Dtype \n",
      "---  ------     --------------  ----- \n",
      " 0   label      1500 non-null   int64 \n",
      " 1   full_path  1500 non-null   object\n",
      " 2   wav_data   1500 non-null   object\n",
      "dtypes: int64(1), object(2)\n",
      "memory usage: 46.9+ KB\n",
      "None\n"
     ]
    }
   ],
   "source": [
    "#  Convert the development dataset in a pandas data frame, with index 'idx' and columns ['label', 'full_path', 'wav_data']\n",
    "import pandas as pd # create data frame\n",
    "\n",
    "dev_dataset = pd.DataFrame(data = convert_files_for_df(dev_files)).set_index('idx').sort_index()\n",
    "\n",
    "print(dev_dataset.head(5))\n",
    "print('\\nDataset information:')\n",
    "print(dev_dataset.info(10))"
   ]
  }
 ],
 "metadata": {
  "kernelspec": {
   "display_name": ".venv_lab7_dsl",
   "language": "python",
   "name": "python3"
  },
  "language_info": {
   "codemirror_mode": {
    "name": "ipython",
    "version": 3
   },
   "file_extension": ".py",
   "mimetype": "text/x-python",
   "name": "python",
   "nbconvert_exporter": "python",
   "pygments_lexer": "ipython3",
   "version": "3.13.0"
  }
 },
 "nbformat": 4,
 "nbformat_minor": 2
}
